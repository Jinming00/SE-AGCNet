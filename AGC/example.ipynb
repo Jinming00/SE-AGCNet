{
 "cells": [
  {
   "cell_type": "markdown",
   "id": "6fc8fbcb",
   "metadata": {},
   "source": [
    "Single File Processing"
   ]
  },
  {
   "cell_type": "code",
   "execution_count": 1,
   "id": "48160d2f",
   "metadata": {},
   "outputs": [
    {
     "name": "stderr",
     "output_type": "stream",
     "text": [
      "/tmp/ipykernel_1315628/4202664862.py:10: WavFileWarning: Chunk (non-data) not understood, skipping it.\n",
      "  sr, d = scipy.io.wavfile.read('./test.wav')\n"
     ]
    }
   ],
   "source": [
    "import scipy.io.wavfile\n",
    "import numpy as np  \n",
    "import scipy.signal as signal  \n",
    "from agc.utils import fft2melmx  \n",
    "from agc.stft import stft, istft \n",
    "from agc import tf_agc\n",
    "import os\n",
    "\n",
    "# read audiofile\n",
    "sr, d = scipy.io.wavfile.read('./test.wav')\n",
    "data_type = d.dtype\n",
    "# convert from int16 to float (-1,1) range\n",
    "convert_16_bit = float(2 ** 15)\n",
    "d = d / (convert_16_bit + 1.0)\n",
    "\n",
    "(y, D, E) = tf_agc(d, sr, t_scale=1.0, f_scale=8.0, causal_tracking=True, plot=False)\n",
    "\n",
    "y = np.int16(y / np.max(np.abs(y)) * convert_16_bit)\n",
    "scipy.io.wavfile.write(f'./test_agc.wav', sr, y)"
   ]
  },
  {
   "cell_type": "markdown",
   "id": "3e380263",
   "metadata": {},
   "source": [
    "Batch Processing for Multiple Files"
   ]
  },
  {
   "cell_type": "code",
   "execution_count": null,
   "id": "8d254b81",
   "metadata": {},
   "outputs": [
    {
     "name": "stdout",
     "output_type": "stream",
     "text": [
      "Directory /data/jinming/CHiME6_eval/CHiME6/audio/CH1/eval/AGC_noncausal already exists. Files may be overwritten.\n",
      "Found 19 WAV files to process.\n",
      "Using 10 processes for parallel processing\n"
     ]
    },
    {
     "name": "stderr",
     "output_type": "stream",
     "text": [
      "Processing files: 100%|██████████| 19/19 [01:05<00:00,  3.43s/it]\n"
     ]
    },
    {
     "name": "stdout",
     "output_type": "stream",
     "text": [
      "Processing complete. Processed files saved to /data/jinming/CHiME6_eval/CHiME6/audio/CH1/eval/AGC_noncausal\n"
     ]
    }
   ],
   "source": [
    "import os\n",
    "import scipy.io.wavfile\n",
    "import numpy as np\n",
    "from agc import tf_agc\n",
    "import tqdm\n",
    "import multiprocessing\n",
    "from functools import partial\n",
    "\n",
    "def process_file(wav_file, source_dir, dest_dir):\n",
    "    \"\"\"Process a single WAV file with AGC\"\"\"\n",
    "    source_path = os.path.join(source_dir, wav_file)\n",
    "    dest_path = os.path.join(dest_dir, wav_file)\n",
    "    \n",
    "    try:\n",
    "        # Read audio file\n",
    "        sr, d = scipy.io.wavfile.read(source_path)\n",
    "        \n",
    "        # Convert from int16 to float (-1,1) range\n",
    "        convert_16_bit = float(2 ** 15)\n",
    "        d = d / (convert_16_bit + 1.0)\n",
    "        \n",
    "        # Apply AGC (without plotting for batch processing)\n",
    "        (y, D, E) = tf_agc(d, sr, t_scale=1.0, f_scale=8.0, causal_tracking=True, plot=False)\n",
    "\n",
    "        # Convert back to int16 to save\n",
    "        y = np.int16(y / np.max(np.abs(y)) * convert_16_bit)\n",
    "        scipy.io.wavfile.write(dest_path, sr, y)\n",
    "        return None\n",
    "        \n",
    "    except Exception as e:\n",
    "        return f\"Error processing {wav_file}: {e}\"\n",
    "\n",
    "def main():\n",
    "\n",
    "    source_dir = \"/data/jinming/CHiME6_eval/CHiME6/audio/CH1/eval\"\n",
    "    dest_dir = \"/data/jinming/CHiME6_eval/CHiME6/audio/CH1/eval/AGC_noncausal\"\n",
    "\n",
    "    # Create destination directory if it doesn't exist\n",
    "    if not os.path.exists(dest_dir):\n",
    "        os.makedirs(dest_dir)\n",
    "    else:\n",
    "        print(f\"Directory {dest_dir} already exists. Files may be overwritten.\")\n",
    "\n",
    "    # Get all wav files\n",
    "    wav_files = [f for f in os.listdir(source_dir) if f.endswith('.wav')]\n",
    "    print(f\"Found {len(wav_files)} WAV files to process.\")\n",
    "\n",
    "    # Determine number of processes\n",
    "    num_processes = 10\n",
    "    print(f\"Using {num_processes} processes for parallel processing\")\n",
    "    \n",
    "    # Create a partial function with the fixed parameters\n",
    "    process_func = partial(process_file, source_dir=source_dir, dest_dir=dest_dir)\n",
    "    \n",
    "    # Process files in parallel with a progress bar\n",
    "    with multiprocessing.Pool(processes=num_processes) as pool:\n",
    "        results = list(tqdm.tqdm(\n",
    "            pool.imap(process_func, wav_files),\n",
    "            total=len(wav_files),\n",
    "            desc=\"Processing files\"\n",
    "        ))\n",
    "    \n",
    "    # Print any errors\n",
    "    errors = [r for r in results if r is not None]\n",
    "    if errors:\n",
    "        print(f\"Encountered {len(errors)} errors:\")\n",
    "        for error in errors:\n",
    "            print(error)\n",
    "    \n",
    "    print(f\"Processing complete. Processed files saved to {dest_dir}\")\n",
    "\n",
    "if __name__ == \"__main__\":\n",
    "    main()"
   ]
  }
 ],
 "metadata": {
  "kernelspec": {
   "display_name": "nemo",
   "language": "python",
   "name": "python3"
  },
  "language_info": {
   "codemirror_mode": {
    "name": "ipython",
    "version": 3
   },
   "file_extension": ".py",
   "mimetype": "text/x-python",
   "name": "python",
   "nbconvert_exporter": "python",
   "pygments_lexer": "ipython3",
   "version": "3.10.12"
  }
 },
 "nbformat": 4,
 "nbformat_minor": 5
}
